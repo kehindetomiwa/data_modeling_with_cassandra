{
 "cells": [
  {
   "cell_type": "markdown",
   "metadata": {},
   "source": [
    "# Part I. ETL Pipeline for Pre-Processing the Files"
   ]
  },
  {
   "cell_type": "markdown",
   "metadata": {},
   "source": [
    "## PLEASE RUN THE FOLLOWING CODE FOR PRE-PROCESSING THE FILES"
   ]
  },
  {
   "cell_type": "markdown",
   "metadata": {},
   "source": [
    "#### Import Python packages "
   ]
  },
  {
   "cell_type": "code",
   "execution_count": 1,
   "metadata": {},
   "outputs": [],
   "source": [
    "# Import Python packages \n",
    "import pandas as pd\n",
    "import cassandra\n",
    "import re\n",
    "import os\n",
    "import glob\n",
    "import numpy as np\n",
    "import json\n",
    "import csv\n",
    "from os.path import dirname"
   ]
  },
  {
   "cell_type": "markdown",
   "metadata": {},
   "source": [
    "#### Creating list of filepaths to process original event csv data files"
   ]
  },
  {
   "cell_type": "code",
   "execution_count": 3,
   "metadata": {},
   "outputs": [
    {
     "name": "stdout",
     "output_type": "stream",
     "text": [
      "/Users/kehindetomiwa/Documents/DS_courses/udacity/data_engineering/data_model/data_modeling_with_cassandra/src/notebook/../../event_data/\n",
      "[('/Users/kehindetomiwa/Documents/DS_courses/udacity/data_engineering/data_model/data_modeling_with_cassandra/src/notebook/../../event_data/', [], ['2018-11-15-events.csv', '2018-11-22-events.csv', '2018-11-09-events.csv', '2018-11-18-events.csv', '2018-11-04-events.csv', '2018-11-01-events.csv', '2018-11-27-events.csv', '2018-11-10-events.csv', '2018-11-20-events.csv', '2018-11-17-events.csv', '2018-11-06-events.csv', '2018-11-03-events.csv', '2018-11-28-events.csv', '2018-11-12-events.csv', '2018-11-25-events.csv', '2018-11-26-events.csv', '2018-11-11-events.csv', '2018-11-14-events.csv', '2018-11-23-events.csv', '2018-11-08-events.csv', '2018-11-19-events.csv', '2018-11-05-events.csv', '2018-11-02-events.csv', '2018-11-29-events.csv', '2018-11-13-events.csv', '2018-11-24-events.csv', '2018-11-21-events.csv', '2018-11-16-events.csv', '2018-11-07-events.csv', '2018-11-30-events.csv'])]\n",
      "30\n"
     ]
    }
   ],
   "source": [
    "\n",
    "# get the current folder and subfolder event data\n",
    "filepath = os.getcwd() + '/../../event_data/'\n",
    "print(filepath)\n",
    "print(list(os.walk(filepath)))\n",
    "# collect each filepath\n",
    "for root, dirs, files in os.walk(filepath):\n",
    "    # join the file path and roots with the subdirectories using glob\n",
    "    file_path_list = glob.glob(os.path.join(root,'*'))\n",
    "\n",
    "# check number of files\n",
    "print(len(file_path_list))"
   ]
  },
  {
   "cell_type": "markdown",
   "metadata": {},
   "source": [
    "#### Processing the files to create the data file csv that will be used for Apache Casssandra tables"
   ]
  },
  {
   "cell_type": "code",
   "execution_count": 4,
   "metadata": {},
   "outputs": [
    {
     "name": "stdout",
     "output_type": "stream",
     "text": [
      "/Users/kehindetomiwa/Documents/DS_courses/udacity/data_engineering/data_model/data_modeling_with_cassandra/src/notebook/../../event_data/2018-11-15-events.csv\n",
      "/Users/kehindetomiwa/Documents/DS_courses/udacity/data_engineering/data_model/data_modeling_with_cassandra/src/notebook/../../event_data/2018-11-22-events.csv\n",
      "/Users/kehindetomiwa/Documents/DS_courses/udacity/data_engineering/data_model/data_modeling_with_cassandra/src/notebook/../../event_data/2018-11-09-events.csv\n",
      "/Users/kehindetomiwa/Documents/DS_courses/udacity/data_engineering/data_model/data_modeling_with_cassandra/src/notebook/../../event_data/2018-11-18-events.csv\n",
      "/Users/kehindetomiwa/Documents/DS_courses/udacity/data_engineering/data_model/data_modeling_with_cassandra/src/notebook/../../event_data/2018-11-04-events.csv\n",
      "/Users/kehindetomiwa/Documents/DS_courses/udacity/data_engineering/data_model/data_modeling_with_cassandra/src/notebook/../../event_data/2018-11-01-events.csv\n",
      "/Users/kehindetomiwa/Documents/DS_courses/udacity/data_engineering/data_model/data_modeling_with_cassandra/src/notebook/../../event_data/2018-11-27-events.csv\n",
      "/Users/kehindetomiwa/Documents/DS_courses/udacity/data_engineering/data_model/data_modeling_with_cassandra/src/notebook/../../event_data/2018-11-10-events.csv\n",
      "/Users/kehindetomiwa/Documents/DS_courses/udacity/data_engineering/data_model/data_modeling_with_cassandra/src/notebook/../../event_data/2018-11-20-events.csv\n",
      "/Users/kehindetomiwa/Documents/DS_courses/udacity/data_engineering/data_model/data_modeling_with_cassandra/src/notebook/../../event_data/2018-11-17-events.csv\n",
      "/Users/kehindetomiwa/Documents/DS_courses/udacity/data_engineering/data_model/data_modeling_with_cassandra/src/notebook/../../event_data/2018-11-06-events.csv\n",
      "/Users/kehindetomiwa/Documents/DS_courses/udacity/data_engineering/data_model/data_modeling_with_cassandra/src/notebook/../../event_data/2018-11-03-events.csv\n",
      "/Users/kehindetomiwa/Documents/DS_courses/udacity/data_engineering/data_model/data_modeling_with_cassandra/src/notebook/../../event_data/2018-11-28-events.csv\n",
      "/Users/kehindetomiwa/Documents/DS_courses/udacity/data_engineering/data_model/data_modeling_with_cassandra/src/notebook/../../event_data/2018-11-12-events.csv\n",
      "/Users/kehindetomiwa/Documents/DS_courses/udacity/data_engineering/data_model/data_modeling_with_cassandra/src/notebook/../../event_data/2018-11-25-events.csv\n",
      "/Users/kehindetomiwa/Documents/DS_courses/udacity/data_engineering/data_model/data_modeling_with_cassandra/src/notebook/../../event_data/2018-11-26-events.csv\n",
      "/Users/kehindetomiwa/Documents/DS_courses/udacity/data_engineering/data_model/data_modeling_with_cassandra/src/notebook/../../event_data/2018-11-11-events.csv\n",
      "/Users/kehindetomiwa/Documents/DS_courses/udacity/data_engineering/data_model/data_modeling_with_cassandra/src/notebook/../../event_data/2018-11-14-events.csv\n",
      "/Users/kehindetomiwa/Documents/DS_courses/udacity/data_engineering/data_model/data_modeling_with_cassandra/src/notebook/../../event_data/2018-11-23-events.csv\n",
      "/Users/kehindetomiwa/Documents/DS_courses/udacity/data_engineering/data_model/data_modeling_with_cassandra/src/notebook/../../event_data/2018-11-08-events.csv\n",
      "/Users/kehindetomiwa/Documents/DS_courses/udacity/data_engineering/data_model/data_modeling_with_cassandra/src/notebook/../../event_data/2018-11-19-events.csv\n",
      "/Users/kehindetomiwa/Documents/DS_courses/udacity/data_engineering/data_model/data_modeling_with_cassandra/src/notebook/../../event_data/2018-11-05-events.csv\n",
      "/Users/kehindetomiwa/Documents/DS_courses/udacity/data_engineering/data_model/data_modeling_with_cassandra/src/notebook/../../event_data/2018-11-02-events.csv\n",
      "/Users/kehindetomiwa/Documents/DS_courses/udacity/data_engineering/data_model/data_modeling_with_cassandra/src/notebook/../../event_data/2018-11-29-events.csv\n",
      "/Users/kehindetomiwa/Documents/DS_courses/udacity/data_engineering/data_model/data_modeling_with_cassandra/src/notebook/../../event_data/2018-11-13-events.csv\n",
      "/Users/kehindetomiwa/Documents/DS_courses/udacity/data_engineering/data_model/data_modeling_with_cassandra/src/notebook/../../event_data/2018-11-24-events.csv\n",
      "/Users/kehindetomiwa/Documents/DS_courses/udacity/data_engineering/data_model/data_modeling_with_cassandra/src/notebook/../../event_data/2018-11-21-events.csv\n",
      "/Users/kehindetomiwa/Documents/DS_courses/udacity/data_engineering/data_model/data_modeling_with_cassandra/src/notebook/../../event_data/2018-11-16-events.csv\n",
      "/Users/kehindetomiwa/Documents/DS_courses/udacity/data_engineering/data_model/data_modeling_with_cassandra/src/notebook/../../event_data/2018-11-07-events.csv\n",
      "/Users/kehindetomiwa/Documents/DS_courses/udacity/data_engineering/data_model/data_modeling_with_cassandra/src/notebook/../../event_data/2018-11-30-events.csv\n"
     ]
    }
   ],
   "source": [
    "# initiating an empty list of rows that will be generated from each file\n",
    "full_data_rows_list = [] \n",
    "    \n",
    "# for every filepath in the file path list \n",
    "for f in file_path_list:\n",
    "    print(f)\n",
    "\n",
    "# reading csv file \n",
    "    with open(f, 'r', encoding = 'utf8', newline='') as csvfile: \n",
    "        # creating a csv reader object \n",
    "        csvreader = csv.reader(csvfile) \n",
    "        next(csvreader)\n",
    "        \n",
    " # extracting each data row one by one and append it        \n",
    "        for line in csvreader:\n",
    "            #print(line)\n",
    "            full_data_rows_list.append(line) \n",
    "            \n",
    "# uncomment the code below if you would like to get total number of rows \n",
    "#print(len(full_data_rows_list))\n",
    "# uncomment the code below if you would like to check to see what the list of event data rows will look like\n",
    "#print(full_data_rows_list)\n",
    "\n",
    "# creating a smaller event data csv file called event_datafile_full csv that will be used to insert data into the \\\n",
    "# Apache Cassandra tables\n",
    "csv.register_dialect('myDialect', quoting=csv.QUOTE_ALL, skipinitialspace=True)\n",
    "\n",
    "with open('event_datafile_new.csv', 'w', encoding = 'utf8', newline='') as f:\n",
    "    writer = csv.writer(f, dialect='myDialect')\n",
    "    writer.writerow(['artist','firstName','gender','itemInSession','lastName','length',\\\n",
    "                'level','location','sessionId','song','userId'])\n",
    "    for row in full_data_rows_list:\n",
    "        if (row[0] == ''):\n",
    "            continue\n",
    "        writer.writerow((row[0], row[2], row[3], row[4], row[5], row[6], row[7], row[8], row[12], row[13], row[16]))\n"
   ]
  },
  {
   "cell_type": "code",
   "execution_count": 5,
   "metadata": {},
   "outputs": [
    {
     "name": "stdout",
     "output_type": "stream",
     "text": [
      "6821\n"
     ]
    }
   ],
   "source": [
    "# check the number of rows in your csv file\n",
    "with open('event_datafile_new.csv', 'r', encoding = 'utf8') as f:\n",
    "    print(sum(1 for line in f))"
   ]
  },
  {
   "cell_type": "markdown",
   "metadata": {},
   "source": [
    "# Part II. Complete the Apache Cassandra coding portion of your project. \n",
    "\n",
    "## Now you are ready to work with the CSV file titled <font color=red>event_datafile_new.csv</font>, located within the Workspace directory.  The event_datafile_new.csv contains the following columns: \n",
    "- artist \n",
    "- firstName of user\n",
    "- gender of user\n",
    "- item number in session\n",
    "- last name of user\n",
    "- length of the song\n",
    "- level (paid or free song)\n",
    "- location of the user\n",
    "- sessionId\n",
    "- song title\n",
    "- userId\n",
    "\n",
    "The image below is a screenshot of what the denormalized data should appear like in the <font color=red>**event_datafile_new.csv**</font> after the code above is run:<br>\n",
    "\n",
    "<img src=\"images/image_event_datafile_new.jpg\">"
   ]
  },
  {
   "cell_type": "markdown",
   "metadata": {},
   "source": [
    "## Begin writing your Apache Cassandra code in the cells below"
   ]
  },
  {
   "cell_type": "markdown",
   "metadata": {},
   "source": [
    "#### Creating a Cluster"
   ]
  },
  {
   "cell_type": "code",
   "execution_count": 6,
   "metadata": {},
   "outputs": [],
   "source": [
    "# This should make a connection to a Cassandra instance your local machine \n",
    "# (127.0.0.1)\n",
    "\n",
    "from cassandra.cluster import Cluster\n",
    "try:\n",
    "    cluster = Cluster()\n",
    "    session = cluster.connect()\n",
    "except Exception as e:\n",
    "    print(e)\n",
    "\n",
    "# To establish connection and begin executing queries, need a session\n"
   ]
  },
  {
   "cell_type": "markdown",
   "metadata": {},
   "source": [
    "#### Create Keyspace"
   ]
  },
  {
   "cell_type": "code",
   "execution_count": 7,
   "metadata": {},
   "outputs": [],
   "source": [
    "# TO-DO: Create a Keyspace \n",
    "try:\n",
    "    session.execute(\"\"\"\n",
    "        CREATE KEYSPACE IF NOT EXISTS music_db\n",
    "        WITH REPLICATION =\n",
    "        { 'class' : 'SimpleStrategy', 'replication_factor' : 1 }\"\"\"\n",
    "                    )\n",
    "\n",
    "except Exception as e:\n",
    "    print(e)\n"
   ]
  },
  {
   "cell_type": "markdown",
   "metadata": {},
   "source": [
    "#### Set Keyspace"
   ]
  },
  {
   "cell_type": "code",
   "execution_count": 8,
   "metadata": {},
   "outputs": [],
   "source": [
    "# TO-DO: Set KEYSPACE to the keyspace specified above\n",
    "try:\n",
    "    session.set_keyspace('music_db')\n",
    "except Exception as e:\n",
    "    print(e)\n"
   ]
  },
  {
   "cell_type": "markdown",
   "metadata": {},
   "source": [
    "### Now we need to create tables to run the following queries. Remember, with Apache Cassandra you model the database tables on the queries you want to run."
   ]
  },
  {
   "cell_type": "markdown",
   "metadata": {},
   "source": [
    "## Create queries to ask the following three questions of the data\n",
    "\n",
    "### 1. Give me the artist, song title and song's length in the music app history that was heard during  sessionId = 338, and itemInSession  = 4\n",
    "\n",
    "\n",
    "### 2. Give me only the following: name of artist, song (sorted by itemInSession) and user (first and last name) for userid = 10, sessionid = 182\n",
    "    \n",
    "\n",
    "### 3. Give me every user name (first and last) in my music app history who listened to the song 'All Hands Against His Own'\n",
    "\n",
    "\n"
   ]
  },
  {
   "cell_type": "code",
   "execution_count": 9,
   "metadata": {},
   "outputs": [
    {
     "data": {
      "text/html": [
       "<div>\n",
       "<style scoped>\n",
       "    .dataframe tbody tr th:only-of-type {\n",
       "        vertical-align: middle;\n",
       "    }\n",
       "\n",
       "    .dataframe tbody tr th {\n",
       "        vertical-align: top;\n",
       "    }\n",
       "\n",
       "    .dataframe thead th {\n",
       "        text-align: right;\n",
       "    }\n",
       "</style>\n",
       "<table border=\"1\" class=\"dataframe\">\n",
       "  <thead>\n",
       "    <tr style=\"text-align: right;\">\n",
       "      <th></th>\n",
       "      <th>artist</th>\n",
       "      <th>firstName</th>\n",
       "      <th>gender</th>\n",
       "      <th>itemInSession</th>\n",
       "      <th>lastName</th>\n",
       "      <th>length</th>\n",
       "      <th>level</th>\n",
       "      <th>location</th>\n",
       "      <th>sessionId</th>\n",
       "      <th>song</th>\n",
       "      <th>userId</th>\n",
       "    </tr>\n",
       "  </thead>\n",
       "  <tbody>\n",
       "    <tr>\n",
       "      <th>0</th>\n",
       "      <td>Harmonia</td>\n",
       "      <td>Ryan</td>\n",
       "      <td>M</td>\n",
       "      <td>0</td>\n",
       "      <td>Smith</td>\n",
       "      <td>655.77751</td>\n",
       "      <td>free</td>\n",
       "      <td>San Jose-Sunnyvale-Santa Clara, CA</td>\n",
       "      <td>583</td>\n",
       "      <td>Sehr kosmisch</td>\n",
       "      <td>26</td>\n",
       "    </tr>\n",
       "    <tr>\n",
       "      <th>1</th>\n",
       "      <td>The Prodigy</td>\n",
       "      <td>Ryan</td>\n",
       "      <td>M</td>\n",
       "      <td>1</td>\n",
       "      <td>Smith</td>\n",
       "      <td>260.07465</td>\n",
       "      <td>free</td>\n",
       "      <td>San Jose-Sunnyvale-Santa Clara, CA</td>\n",
       "      <td>583</td>\n",
       "      <td>The Big Gundown</td>\n",
       "      <td>26</td>\n",
       "    </tr>\n",
       "    <tr>\n",
       "      <th>2</th>\n",
       "      <td>Train</td>\n",
       "      <td>Ryan</td>\n",
       "      <td>M</td>\n",
       "      <td>2</td>\n",
       "      <td>Smith</td>\n",
       "      <td>205.45261</td>\n",
       "      <td>free</td>\n",
       "      <td>San Jose-Sunnyvale-Santa Clara, CA</td>\n",
       "      <td>583</td>\n",
       "      <td>Marry Me</td>\n",
       "      <td>26</td>\n",
       "    </tr>\n",
       "    <tr>\n",
       "      <th>3</th>\n",
       "      <td>Sony Wonder</td>\n",
       "      <td>Samuel</td>\n",
       "      <td>M</td>\n",
       "      <td>0</td>\n",
       "      <td>Gonzalez</td>\n",
       "      <td>218.06975</td>\n",
       "      <td>free</td>\n",
       "      <td>Houston-The Woodlands-Sugar Land, TX</td>\n",
       "      <td>597</td>\n",
       "      <td>Blackbird</td>\n",
       "      <td>61</td>\n",
       "    </tr>\n",
       "    <tr>\n",
       "      <th>4</th>\n",
       "      <td>Van Halen</td>\n",
       "      <td>Tegan</td>\n",
       "      <td>F</td>\n",
       "      <td>2</td>\n",
       "      <td>Levine</td>\n",
       "      <td>289.38404</td>\n",
       "      <td>paid</td>\n",
       "      <td>Portland-South Portland, ME</td>\n",
       "      <td>602</td>\n",
       "      <td>Best Of Both Worlds (Remastered Album Version)</td>\n",
       "      <td>80</td>\n",
       "    </tr>\n",
       "  </tbody>\n",
       "</table>\n",
       "</div>"
      ],
      "text/plain": [
       "        artist firstName gender  itemInSession  lastName     length level  \\\n",
       "0     Harmonia      Ryan      M              0     Smith  655.77751  free   \n",
       "1  The Prodigy      Ryan      M              1     Smith  260.07465  free   \n",
       "2        Train      Ryan      M              2     Smith  205.45261  free   \n",
       "3  Sony Wonder    Samuel      M              0  Gonzalez  218.06975  free   \n",
       "4    Van Halen     Tegan      F              2    Levine  289.38404  paid   \n",
       "\n",
       "                               location  sessionId  \\\n",
       "0    San Jose-Sunnyvale-Santa Clara, CA        583   \n",
       "1    San Jose-Sunnyvale-Santa Clara, CA        583   \n",
       "2    San Jose-Sunnyvale-Santa Clara, CA        583   \n",
       "3  Houston-The Woodlands-Sugar Land, TX        597   \n",
       "4           Portland-South Portland, ME        602   \n",
       "\n",
       "                                             song  userId  \n",
       "0                                   Sehr kosmisch      26  \n",
       "1                                 The Big Gundown      26  \n",
       "2                                        Marry Me      26  \n",
       "3                                       Blackbird      61  \n",
       "4  Best Of Both Worlds (Remastered Album Version)      80  "
      ]
     },
     "execution_count": 9,
     "metadata": {},
     "output_type": "execute_result"
    }
   ],
   "source": [
    "df = pd.read_csv('event_datafile_new.csv', encoding='utf8')\n",
    "df.head()"
   ]
  },
  {
   "cell_type": "code",
   "execution_count": 10,
   "metadata": {},
   "outputs": [],
   "source": [
    "## TO-DO: Query 1:  Give me the artist, song title and song's length in the music app history that was heard during \\\n",
    "## sessionId = 338, and itemInSession = 4\n",
    "\n",
    "query = \"CREATE TABLE IF NOT EXISTS music_history \\\n",
    "            (session_id INT, session_item INT, artist TEXT, song TEXT, length FLOAT, \\\n",
    "            PRIMARY KEY(session_id, session_item))\"\n",
    "try:\n",
    "    session.execute(query)\n",
    "except Exception as e:\n",
    "    print(e)\n",
    "                    "
   ]
  },
  {
   "cell_type": "code",
   "execution_count": 11,
   "metadata": {},
   "outputs": [],
   "source": [
    "for i, row in df.iterrows():\n",
    "    query  = \"INSERT INTO music_history (session_id, session_item, artist, song, length)\"\n",
    "    query += \"VALUES(%s, %s, %s, %s, %s)\"\n",
    "    session.execute(query, (row.sessionId, row.itemInSession, row.artist, row.song, row.length))\n"
   ]
  },
  {
   "cell_type": "markdown",
   "metadata": {},
   "source": [
    "#### Do a SELECT to verify that the data have been inserted into each table"
   ]
  },
  {
   "cell_type": "code",
   "execution_count": 12,
   "metadata": {
    "scrolled": true
   },
   "outputs": [
    {
     "name": "stdout",
     "output_type": "stream",
     "text": [
      "Row(session_id=338, session_item=4, artist='Faithless', length=495.30731201171875, song='Music Matters (Mark Knight Dub)')\n"
     ]
    }
   ],
   "source": [
    "## TO-DO: Add in the SELECT statement to verify the data was entered into the table\n",
    "query = \"SELECT * FROM music_history WHERE session_id=338 AND session_item=4\"\n",
    "try:\n",
    "    rows = session.execute(query)\n",
    "except Exception as e:\n",
    "    print(e)\n",
    "    \n",
    "for row in rows:\n",
    "    print (row)"
   ]
  },
  {
   "cell_type": "markdown",
   "metadata": {},
   "source": [
    "### COPY AND REPEAT THE ABOVE THREE CELLS FOR EACH OF THE THREE QUESTIONS"
   ]
  },
  {
   "cell_type": "code",
   "execution_count": 13,
   "metadata": {},
   "outputs": [
    {
     "name": "stdout",
     "output_type": "stream",
     "text": [
      "Row(user_id=10, session_id=182, session_item=0, artist='Down To The Bone', song=\"Keep On Keepin' On\", user='Sylvie Cruz')\n",
      "Row(user_id=10, session_id=182, session_item=1, artist='Three Drives', song='Greece 2000', user='Sylvie Cruz')\n",
      "Row(user_id=10, session_id=182, session_item=2, artist='Sebastien Tellier', song='Kilometer', user='Sylvie Cruz')\n",
      "Row(user_id=10, session_id=182, session_item=3, artist='Lonnie Gordon', song='Catch You Baby (Steve Pitron & Max Sanna Radio Edit)', user='Sylvie Cruz')\n"
     ]
    }
   ],
   "source": [
    "## TO-DO: Query 2: Give me only the following: name of artist, song (sorted by itemInSession) and user (first and last name)\\\n",
    "## for userid = 10, sessionid = 182\n",
    "query  =  \"CREATE TABLE IF NOT EXISTS user_history \"\n",
    "query += \"(user_id INT, session_id INT, session_item INT, artist TEXT, song TEXT, user TEXT, \\\n",
    "           PRIMARY KEY((user_id), session_id, session_item))\"\n",
    "\n",
    "try:\n",
    "    session.execute(query)\n",
    "except Exception as e:\n",
    "    print(e)\n",
    "\n",
    "for i, row in df.iterrows():\n",
    "    query  = \"INSERT INTO user_history (user_id, session_id, session_item, artist, song, user)\"\n",
    "    query += \"VALUES(%s, %s, %s, %s, %s, %s)\"\n",
    "    session.execute(query, (row.userId, row.sessionId, row.itemInSession, row.artist, row.song, f'{row.firstName} {row.lastName}'))\n",
    "                    \n",
    "\n",
    "query = \"SELECT * FROM user_history WHERE user_id=10 AND session_id=182\"\n",
    "try:\n",
    "    rows = session.execute(query)\n",
    "except Exception as e:\n",
    "    print(e)\n",
    "\n",
    "for row in rows:\n",
    "    print (row)"
   ]
  },
  {
   "cell_type": "code",
   "execution_count": 14,
   "metadata": {},
   "outputs": [
    {
     "name": "stdout",
     "output_type": "stream",
     "text": [
      "Row(song='All Hands Against His Own', user='Jacqueline Lynch')\n",
      "Row(song='All Hands Against His Own', user='Sara Johnson')\n",
      "Row(song='All Hands Against His Own', user='Tegan Levine')\n"
     ]
    }
   ],
   "source": [
    "## TO-DO: Query 3: Give me every user name (first and last) in my music app history who listened to the song 'All Hands Against His Own'\n",
    "\n",
    "query  =  \"CREATE TABLE IF NOT EXISTS song_history \"\n",
    "query += \"(song TEXT, user TEXT, \\\n",
    "           PRIMARY KEY(song, user))\"\n",
    "\n",
    "try:\n",
    "    session.execute(query)\n",
    "except Exception as e:\n",
    "    print(e)\n",
    "    \n",
    "for i, row in df.iterrows():\n",
    "    query  = \"INSERT INTO song_history (song, user)\"\n",
    "    query += \"VALUES(%s, %s)\"\n",
    "    session.execute(query, (row.song, f'{row.firstName} {row.lastName}'))\n",
    "query = \"SELECT * FROM song_history WHERE song='All Hands Against His Own'\"\n",
    "try:\n",
    "    rows = session.execute(query)\n",
    "except Exception as e:\n",
    "    print(e)\n",
    "    \n",
    "data = list(map(lambda row: list(row), rows))\n",
    "pd.DataFrame(data, columns = ['song', 'user'])    \n",
    "query = \"SELECT * FROM song_history WHERE song='All Hands Against His Own'\"\n",
    "try:\n",
    "    rows = session.execute(query)\n",
    "except Exception as e:\n",
    "    print(e)\n",
    "    \n",
    "for row in rows:\n",
    "    print (row)\n",
    "                    "
   ]
  },
  {
   "cell_type": "code",
   "execution_count": null,
   "metadata": {},
   "outputs": [],
   "source": []
  },
  {
   "cell_type": "code",
   "execution_count": null,
   "metadata": {},
   "outputs": [],
   "source": []
  },
  {
   "cell_type": "markdown",
   "metadata": {},
   "source": [
    "### Drop the tables before closing out the sessions"
   ]
  },
  {
   "cell_type": "code",
   "execution_count": 15,
   "metadata": {},
   "outputs": [],
   "source": [
    "## TO-DO: Drop the table before closing out the sessions"
   ]
  },
  {
   "cell_type": "code",
   "execution_count": 16,
   "metadata": {},
   "outputs": [
    {
     "data": {
      "text/plain": [
       "<cassandra.cluster.ResultSet at 0x11d478dd8>"
      ]
     },
     "execution_count": 16,
     "metadata": {},
     "output_type": "execute_result"
    }
   ],
   "source": [
    "session.execute(\"DROP TABLE IF EXISTS music_history\")\n",
    "session.execute(\"DROP TABLE IF EXISTS user_history\")\n",
    "session.execute(\"DROP TABLE IF EXISTS song_history\")\n"
   ]
  },
  {
   "cell_type": "markdown",
   "metadata": {},
   "source": [
    "### Close the session and cluster connection¶"
   ]
  },
  {
   "cell_type": "code",
   "execution_count": 20,
   "metadata": {},
   "outputs": [],
   "source": [
    "session.shutdown()\n",
    "cluster.shutdown()"
   ]
  },
  {
   "cell_type": "code",
   "execution_count": null,
   "metadata": {},
   "outputs": [],
   "source": []
  },
  {
   "cell_type": "code",
   "execution_count": null,
   "metadata": {},
   "outputs": [],
   "source": []
  }
 ],
 "metadata": {
  "kernelspec": {
   "display_name": "Python 3",
   "language": "python",
   "name": "python3"
  },
  "language_info": {
   "codemirror_mode": {
    "name": "ipython",
    "version": 3
   },
   "file_extension": ".py",
   "mimetype": "text/x-python",
   "name": "python",
   "nbconvert_exporter": "python",
   "pygments_lexer": "ipython3",
   "version": "3.7.3"
  }
 },
 "nbformat": 4,
 "nbformat_minor": 4
}
